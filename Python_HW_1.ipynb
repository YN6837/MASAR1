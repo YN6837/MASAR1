{
  "nbformat": 4,
  "nbformat_minor": 0,
  "metadata": {
    "colab": {
      "provenance": [],
      "authorship_tag": "ABX9TyOdwt/vkC40N6Y3ZiyO2aDP",
      "include_colab_link": true
    },
    "kernelspec": {
      "name": "python3",
      "display_name": "Python 3"
    },
    "language_info": {
      "name": "python"
    }
  },
  "cells": [
    {
      "cell_type": "markdown",
      "metadata": {
        "id": "view-in-github",
        "colab_type": "text"
      },
      "source": [
        "<a href=\"https://colab.research.google.com/github/YN6837/MASAR1/blob/main/Python_HW_1.ipynb\" target=\"_parent\"><img src=\"https://colab.research.google.com/assets/colab-badge.svg\" alt=\"Open In Colab\"/></a>"
      ]
    },
    {
      "cell_type": "code",
      "execution_count": 3,
      "metadata": {
        "colab": {
          "base_uri": "https://localhost:8080/"
        },
        "id": "CxQC09PYfS_J",
        "outputId": "d8d6840d-1d25-4f21-80f2-8c1d16a70090"
      },
      "outputs": [
        {
          "output_type": "stream",
          "name": "stdout",
          "text": [
            "أهلاً بالجميع، أنا اسمي عبدالعزيز، عمري 34، سوف أتعلم البرمجة مع معلمي معسكر مسار!\n"
          ]
        }
      ],
      "source": [
        "#تعريف متغير الاسم\n",
        "name = 'عبدالعزيز'\n",
        "\n",
        "#تعريف متغير العمر\n",
        "age = '34'\n",
        "\n",
        "#أمر الطباعة\n",
        "\n",
        "print (f'أهلاً بالجميع، أنا اسمي {name}، عمري {age}، سوف أتعلم البرمجة مع معلمي معسكر مسار!')"
      ]
    }
  ]
}