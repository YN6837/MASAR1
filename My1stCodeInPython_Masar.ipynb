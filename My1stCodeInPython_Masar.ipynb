{
  "nbformat": 4,
  "nbformat_minor": 0,
  "metadata": {
    "colab": {
      "provenance": [],
      "authorship_tag": "ABX9TyNfiI6KVrbZZv/j1OZpf9dK",
      "include_colab_link": true
    },
    "kernelspec": {
      "name": "python3",
      "display_name": "Python 3"
    },
    "language_info": {
      "name": "python"
    }
  },
  "cells": [
    {
      "cell_type": "markdown",
      "metadata": {
        "id": "view-in-github",
        "colab_type": "text"
      },
      "source": [
        "<a href=\"https://colab.research.google.com/github/YN6837/MASAR1/blob/main/My1stCodeInPython_Masar.ipynb\" target=\"_parent\"><img src=\"https://colab.research.google.com/assets/colab-badge.svg\" alt=\"Open In Colab\"/></a>"
      ]
    },
    {
      "cell_type": "code",
      "execution_count": 26,
      "metadata": {
        "colab": {
          "base_uri": "https://localhost:8080/"
        },
        "id": "_HAkB5qYO_h2",
        "outputId": "d5cc1205-735f-4c84-dc5e-df75818d0224"
      },
      "outputs": [
        {
          "output_type": "stream",
          "name": "stdout",
          "text": [
            "My age is35\n"
          ]
        }
      ],
      "source": [
        "# الكود الاول مع منصة مسار البطلة\n",
        "\n",
        "name = 'Dania'\n",
        "\n",
        "age = 35\n",
        "\n",
        "\n",
        "\n",
        "\n",
        "#تحويل من رقم إلى نص\n",
        "age_str= str(age)\n",
        "\n",
        "print ('My age is' + age_str)"
      ]
    }
  ]
}